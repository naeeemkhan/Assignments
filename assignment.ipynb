{
 "cells": [
  {
   "cell_type": "code",
   "execution_count": 1,
   "metadata": {},
   "outputs": [
    {
     "name": "stdout",
     "output_type": "stream",
     "text": [
      "The Zen of Python, by Tim Peters\n",
      "\n",
      "Beautiful is better than ugly.\n",
      "Explicit is better than implicit.\n",
      "Simple is better than complex.\n",
      "Complex is better than complicated.\n",
      "Flat is better than nested.\n",
      "Sparse is better than dense.\n",
      "Readability counts.\n",
      "Special cases aren't special enough to break the rules.\n",
      "Although practicality beats purity.\n",
      "Errors should never pass silently.\n",
      "Unless explicitly silenced.\n",
      "In the face of ambiguity, refuse the temptation to guess.\n",
      "There should be one-- and preferably only one --obvious way to do it.\n",
      "Although that way may not be obvious at first unless you're Dutch.\n",
      "Now is better than never.\n",
      "Although never is often better than *right* now.\n",
      "If the implementation is hard to explain, it's a bad idea.\n",
      "If the implementation is easy to explain, it may be a good idea.\n",
      "Namespaces are one honking great idea -- let's do more of those!\n"
     ]
    }
   ],
   "source": [
    "import this"
   ]
  },
  {
   "cell_type": "code",
   "execution_count": 20,
   "metadata": {},
   "outputs": [
    {
     "data": {
      "text/plain": [
       "str"
      ]
     },
     "execution_count": 20,
     "metadata": {},
     "output_type": "execute_result"
    }
   ],
   "source": [
    "a = \"Pakistan is our coutnry, we love Pakistan\"\n",
    "type (a)"
   ]
  },
  {
   "cell_type": "code",
   "execution_count": 25,
   "metadata": {},
   "outputs": [
    {
     "name": "stdout",
     "output_type": "stream",
     "text": [
      "Pakistan is our coutnry, we love pakistan\n",
      "pakistan is our coutnry, we love pakistan\n",
      "PAKISTAN IS OUR COUTNRY, WE LOVE PAKISTAN\n",
      "Pakistan Is Our Coutnry, We Love Pakistan\n",
      "41\n",
      "Pakistan is our coutnry, we love Pakistan\n",
      "Pakistan is our coutnry, we love Pakistan\n",
      "natsikaP evol ew ,yrntuoc ruo si natsikaP\n"
     ]
    }
   ],
   "source": [
    "print (a.capitalize()) # Only 1st letter will in uppercase\n",
    "print (a.lower())      # all lower characters\n",
    "print (a.upper())      # all upper characters\n",
    "print (a.title())      # First letter of each word in uppercase\n",
    "print (len(a))         # length of characters or whole sentence\n",
    "#slicing (more than one value from list)\n",
    "#list[start:end:step]\n",
    "#tuple[start:end:step]\n",
    "#string[start:end:step] here our focus is on string\n",
    "print(a[::])           # if not given any start end or step value it will show whole string\n",
    "print(a[0:41:])        #total length 41 starting from 0 as default starting point is 0\n",
    "#if we want reverse values we can just right step as -1 lets check\n",
    "print(a[::-1])\n"
   ]
  },
  {
   "cell_type": "code",
   "execution_count": 36,
   "metadata": {},
   "outputs": [
    {
     "data": {
      "text/plain": [
       "'We are Pakistani'"
      ]
     },
     "execution_count": 36,
     "metadata": {},
     "output_type": "execute_result"
    }
   ],
   "source": [
    "a.replace(\"Pakistan is our coutnry, we love Pakistan\",\"We are Pakistani\") #\"inline string value replacement\""
   ]
  },
  {
   "cell_type": "code",
   "execution_count": 39,
   "metadata": {},
   "outputs": [
    {
     "name": "stdout",
     "output_type": "stream",
     "text": [
      "Pakistan is our coutnry, we love Pakistan\n"
     ]
    }
   ],
   "source": [
    "print (a)"
   ]
  },
  {
   "cell_type": "code",
   "execution_count": 80,
   "metadata": {},
   "outputs": [
    {
     "name": "stdout",
     "output_type": "stream",
     "text": [
      "          Muhammad    Naeem          \n",
      "37\n",
      "Muhammad    Naeem          \n",
      "27\n",
      "          Muhammad    Naeem\n",
      "27\n",
      "Muhammad    Naeem\n",
      "17\n",
      "['Muhammad', 'Naeem']\n"
     ]
    }
   ],
   "source": [
    "#if having extra spaces in string how to remove lets check with lstrip, rstrip and spilt options\n",
    "b = \"          Muhammad    Naeem          \"\n",
    "print (b)\n",
    "print(len(b))\n",
    "print (b.lstrip()) #lstrip used to remove spaces from left side of string\n",
    "print (len(b.lstrip()))  #to check length after removing leftside spaces\n",
    "print (b.rstrip()) #rstrip used to remove spaces from right side of string\n",
    "print (len(b.rstrip()))#to check length after removing rightside spaces\n",
    "print (b.strip()) #function strip remove extra spaces from both sides\n",
    "print (len(b.strip()))\n",
    "c = b.split() #to remove extra spaces we have converted string into list\n",
    "print (c)"
   ]
  },
  {
   "cell_type": "code",
   "execution_count": 65,
   "metadata": {},
   "outputs": [
    {
     "data": {
      "text/plain": [
       "'Muhammad Naeem'"
      ]
     },
     "execution_count": 65,
     "metadata": {},
     "output_type": "execute_result"
    }
   ],
   "source": [
    "\" \".join(c) #we are again joining list element to string so now we have no spaces, its inline change"
   ]
  },
  {
   "cell_type": "code",
   "execution_count": 87,
   "metadata": {},
   "outputs": [
    {
     "name": "stdout",
     "output_type": "stream",
     "text": [
      "True\n",
      "False\n",
      "False\n",
      "True\n"
     ]
    }
   ],
   "source": [
    "#isupper and islower function\n",
    "x = \"PAKISTAN\"\n",
    "y = \"pakistan\"\n",
    "print (x.isupper()) #it will show true because all characters are in uppercase\n",
    "print (y.isupper()) #it will return false becase all characters are in lowercasse\n",
    "print (x.islower()) #it will return false because all characters are in uppercase we are checking lower characters here\n",
    "print (y.islower()) #it will return true becase all characters are in lowercasse"
   ]
  },
  {
   "cell_type": "code",
   "execution_count": 139,
   "metadata": {},
   "outputs": [
    {
     "name": "stdout",
     "output_type": "stream",
     "text": [
      "True\n",
      "False\n",
      "True\n",
      "False\n"
     ]
    }
   ],
   "source": [
    "#isspace function to check white spaces in string\n",
    "r = \"      \\n\"\n",
    "s = \" a\"\n",
    "print (r.isspace())\n",
    "print (s.isspace())\n",
    "\n",
    "#let check istitle function\n",
    "str1 = \"What Is Your Name?\"\n",
    "str2 = \"What is your name?\"\n",
    "print(str1.istitle()) #it will return true because str1 contain only title sentense\n",
    "print(str2.istitle()) #it will return false"
   ]
  },
  {
   "cell_type": "code",
   "execution_count": 112,
   "metadata": {},
   "outputs": [
    {
     "name": "stdout",
     "output_type": "stream",
     "text": [
      "\n",
      "BHARIA UNIVERSITY\n",
      "name: Muhammad Naeem\n",
      "Father's Name: Muhammad Younas \n",
      "program: PIAIC\n",
      "SCORE:  200\n",
      "\n"
     ]
    }
   ],
   "source": [
    "#format function\n",
    "name = \"Muhammad Naeem\"\n",
    "fname = \"Muhammad Younas\"\n",
    "program = \"PIAIC\"\n",
    "score = 200\n",
    "card = \"\"\"\n",
    "BHARIA UNIVERSITY\n",
    "name: {}\n",
    "Father's Name: {} \n",
    "program: {}\n",
    "SCORE:  {}\n",
    "\"\"\"\n",
    "print(card.format(name, fname, program, score))"
   ]
  },
  {
   "cell_type": "code",
   "execution_count": 140,
   "metadata": {},
   "outputs": [
    {
     "name": "stdout",
     "output_type": "stream",
     "text": [
      "the count is :  2\n"
     ]
    }
   ],
   "source": [
    "#count function, is used to count characters in string it is character sensitive\n",
    "a = \"we are studying python in AI class on every sunday, AI is best course\"\n",
    "b = \"AI\"\n",
    "count = a.count(b)\n",
    "print (\"the count is : \", count) #here we are counting required words or characters\n",
    "\n",
    "\n",
    "\n"
   ]
  },
  {
   "cell_type": "code",
   "execution_count": 144,
   "metadata": {},
   "outputs": [
    {
     "name": "stdout",
     "output_type": "stream",
     "text": [
      "00000050\n"
     ]
    }
   ],
   "source": [
    "#Zfill it will fill with zeros untill string value comes\n",
    "x = \"50\"\n",
    "print (x.zfill(8)) #given value 8 is total value including string value"
   ]
  },
  {
   "cell_type": "code",
   "execution_count": 161,
   "metadata": {},
   "outputs": [
    {
     "name": "stdout",
     "output_type": "stream",
     "text": [
      "      Pakistan      \n",
      "****************Pakistan****************\n"
     ]
    }
   ],
   "source": [
    "#center function with string\n",
    "txt = \"Pakistan\"\n",
    "print (txt.center(20)) #this is used to center align text we can use * or any characher with it let c\n",
    "print (txt.center(40,\"*\"))"
   ]
  },
  {
   "cell_type": "code",
   "execution_count": null,
   "metadata": {},
   "outputs": [],
   "source": []
  }
 ],
 "metadata": {
  "kernelspec": {
   "display_name": "Python 3",
   "language": "python",
   "name": "python3"
  },
  "language_info": {
   "codemirror_mode": {
    "name": "ipython",
    "version": 3
   },
   "file_extension": ".py",
   "mimetype": "text/x-python",
   "name": "python",
   "nbconvert_exporter": "python",
   "pygments_lexer": "ipython3",
   "version": "3.7.4"
  }
 },
 "nbformat": 4,
 "nbformat_minor": 2
}
